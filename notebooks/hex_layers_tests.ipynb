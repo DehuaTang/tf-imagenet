{
 "cells": [
  {
   "cell_type": "markdown",
   "metadata": {},
   "source": [
    "# Testing hexagonal kernels and backward gradients"
   ]
  },
  {
   "cell_type": "code",
   "execution_count": 6,
   "metadata": {},
   "outputs": [],
   "source": [
    "import os\n",
    "import sys\n",
    "import numpy as np\n",
    "import tensorflow as tf\n",
    "\n",
    "os.environ['TF_CPP_MIN_LOG_LEVEL'] = '0'\n",
    "tf.logging.set_verbosity(tf.logging.DEBUG)\n",
    "sys.path.append(os.path.abspath('../'))"
   ]
  },
  {
   "cell_type": "code",
   "execution_count": 7,
   "metadata": {},
   "outputs": [
    {
     "name": "stdout",
     "output_type": "stream",
     "text": [
      "\u001b[0m\u001b[00mBUILD\u001b[0m         \u001b[00meval.py\u001b[0m                \u001b[00mparameters.py\u001b[0m         \u001b[00mtrain.py\u001b[0m\r\n",
      "\u001b[01;34mcheckpoints\u001b[0m/  \u001b[00minspect_checkpoint.py\u001b[0m  \u001b[01;34mpreprocessing\u001b[0m/        \u001b[00mWORKSPACE\u001b[0m\r\n",
      "\u001b[01;34mdatasets\u001b[0m/     \u001b[00mLICENSE\u001b[0m                \u001b[00mREADME.md\u001b[0m\r\n",
      "\u001b[01;34mdeploy\u001b[0m/       \u001b[01;34mmodels\u001b[0m/                \u001b[00mtf_cnn_benchmarks.py\u001b[0m\r\n",
      "\u001b[01;34mdocs\u001b[0m/         \u001b[01;34mnotebooks\u001b[0m/             \u001b[01;34mtf_extended\u001b[0m/\r\n"
     ]
    }
   ],
   "source": [
    "ls"
   ]
  },
  {
   "cell_type": "markdown",
   "metadata": {},
   "source": [
    "## Hexagonal layers\n",
    "\n",
    "Test out the basic hexagonal layers."
   ]
  },
  {
   "cell_type": "code",
   "execution_count": 10,
   "metadata": {},
   "outputs": [
    {
     "ename": "ImportError",
     "evalue": "cannot import name 'hex_layers'",
     "output_type": "error",
     "traceback": [
      "\u001b[0;31m---------------------------------------------------------------------------\u001b[0m",
      "\u001b[0;31mImportError\u001b[0m                               Traceback (most recent call last)",
      "\u001b[0;32m<ipython-input-10-4ac2ed648d99>\u001b[0m in \u001b[0;36m<module>\u001b[0;34m()\u001b[0m\n\u001b[1;32m      2\u001b[0m \u001b[0;32mimport\u001b[0m \u001b[0mtf_extended\u001b[0m \u001b[0;32mas\u001b[0m \u001b[0mtfx\u001b[0m\u001b[0;34m\u001b[0m\u001b[0m\n\u001b[1;32m      3\u001b[0m \u001b[0;32mimport\u001b[0m \u001b[0mtf_extended\u001b[0m \u001b[0;32mas\u001b[0m \u001b[0mtfx\u001b[0m\u001b[0;34m\u001b[0m\u001b[0m\n\u001b[0;32m----> 4\u001b[0;31m \u001b[0;32mfrom\u001b[0m \u001b[0mtensorflow\u001b[0m\u001b[0;34m.\u001b[0m\u001b[0mcontrib\u001b[0m \u001b[0;32mimport\u001b[0m \u001b[0mhex_layers\u001b[0m\u001b[0;34m\u001b[0m\u001b[0m\n\u001b[0m",
      "\u001b[0;31mImportError\u001b[0m: cannot import name 'hex_layers'"
     ]
    }
   ],
   "source": [
    "# from tensorflow.contrib import hex_layers\n",
    "import tf_extended as tfx\n",
    "import tf_extended as tfx\n",
    "from tensorflow.contrib import hex_layers"
   ]
  },
  {
   "cell_type": "code",
   "execution_count": null,
   "metadata": {},
   "outputs": [],
   "source": []
  },
  {
   "cell_type": "code",
   "execution_count": null,
   "metadata": {},
   "outputs": [],
   "source": [
    "size = 6\n",
    "shape = [size, size]\n",
    "a = np.reshape(np.linspace(1.0, size**2, num=size**2, dtype=np.float32), shape)\n",
    "\n",
    "print('Test Tensor: \\n', a)\n",
    "a = a.reshape([1, size, size, 1])"
   ]
  },
  {
   "cell_type": "code",
   "execution_count": null,
   "metadata": {},
   "outputs": [],
   "source": [
    "t = hex_layers.hex_depthwise_conv2d(a, 3)\n",
    "t = hex_layers.hex_downscale2d(a, 2)"
   ]
  },
  {
   "cell_type": "code",
   "execution_count": null,
   "metadata": {},
   "outputs": [],
   "source": [
    "# Test cartesian to hexagonal tiling.\n",
    "t = hex_layers.hex_from_cartesian(a, downscale=False)\n",
    "with tf.Session(config=tf.ConfigProto(log_device_placement=False)) as sess:\n",
    "    print(t.eval().squeeze())\n",
    "\n"
   ]
  },
  {
   "cell_type": "code",
   "execution_count": null,
   "metadata": {},
   "outputs": [],
   "source": [
    "a.shape\n",
    "t.get_shape()\n"
   ]
  },
  {
   "cell_type": "code",
   "execution_count": null,
   "metadata": {},
   "outputs": [],
   "source": [
    "aa = tf.convert_to_tensor(a)\n",
    "l0 = aa[:,0]\n",
    "print(l0.get_shape())\n",
    "\n",
    "# aa."
   ]
  },
  {
   "cell_type": "code",
   "execution_count": null,
   "metadata": {},
   "outputs": [],
   "source": [
    "5 % 3"
   ]
  },
  {
   "cell_type": "markdown",
   "metadata": {},
   "source": [
    "## Forward hexagonal depthwise convolution 2D\n",
    "\n",
    "Testing the forward convolution."
   ]
  },
  {
   "cell_type": "code",
   "execution_count": null,
   "metadata": {},
   "outputs": [],
   "source": [
    "size = 5\n",
    "shape = [size, size]\n",
    "a = np.reshape(np.linspace(1.0, size**2, num=size**2, dtype=np.float32), shape)\n",
    "\n",
    "print('Test Tensor: \\n', a)\n",
    "a = a.reshape([1, size, size, 1])"
   ]
  },
  {
   "cell_type": "code",
   "execution_count": null,
   "metadata": {
    "scrolled": false
   },
   "outputs": [],
   "source": [
    "# Testing several simple configurations of kernels.\n",
    "radius = 2\n",
    "ksize = 2*radius+1\n",
    "stride = 1\n",
    "\n",
    "with tf.Session(config=tf.ConfigProto(log_device_placement=False)) as sess:\n",
    "    idx = 0\n",
    "    for rad in range(radius+1):\n",
    "        rsize = max(1, rad*6)\n",
    "        for i in range(rsize):\n",
    "            # Basic kernel\n",
    "            f = np.zeros(shape=[ksize**2], dtype=np.float32)\n",
    "            f[idx] = 1.\n",
    "            print('TEST kernel %i: \\n' % idx, f)\n",
    "            # Inverse kernel.\n",
    "            delta = rad*3 if i < rad*3 else -rad*3\n",
    "            fi = np.zeros(shape=[ksize**2], dtype=np.float32)\n",
    "            fi[idx+delta] = 1.\n",
    "            # Hex. depthwise conv2d\n",
    "            f = np.reshape(f, [ksize, ksize, 1, 1])\n",
    "            t = tf.nn.hex_depthwise_conv2d(a, f, [1, stride, stride, 1], 'SAME', data_format='NHWC')\n",
    "            r = t.eval()\n",
    "            # Inverse computation\n",
    "            fi = np.reshape(fi, [ksize, ksize, 1, 1])\n",
    "            ti = tf.nn.hex_depthwise_conv2d(r, fi, [1, stride, stride, 1], 'SAME', data_format='NHWC')\n",
    "            ri = ti.eval()\n",
    "            \n",
    "            print('TEST result: \\n', r.squeeze(), '\\nInverse:\\n', ri.squeeze(), '\\n')\n",
    "            idx += 1\n",
    "\n",
    "#     for k in range(ksize**2):\n",
    "#         # Basic kernel\n",
    "#         f = np.zeros(shape=[ksize**2], dtype=np.float32)\n",
    "#         f[k] = 1.\n",
    "#         print('TEST kernel %i: \\n' % k, f)\n",
    "#         # Hex. depthwise conv2d\n",
    "#         f = np.reshape(f, [ksize, ksize, 1, 1])\n",
    "#         t = tf.nn.hex_depthwise_conv2d(a, f, [1, stride, stride, 1], 'SAME', data_format='NHWC')\n",
    "#         r = t.eval()\n",
    "#         print('TEST result: \\n', r.squeeze(), '\\n')\n"
   ]
  },
  {
   "cell_type": "code",
   "execution_count": null,
   "metadata": {},
   "outputs": [],
   "source": []
  },
  {
   "cell_type": "markdown",
   "metadata": {},
   "source": [
    "## Backward hexagonal depthwise convolution 2D - Input\n",
    "\n",
    "Testing the backward convolution, input gradient."
   ]
  },
  {
   "cell_type": "code",
   "execution_count": null,
   "metadata": {},
   "outputs": [],
   "source": [
    "size = 3\n",
    "shape = [size, size]\n",
    "a = np.reshape(np.linspace(1.0, size**2, num=size**2, dtype=np.float32), shape)\n",
    "\n",
    "print('Test Tensor: \\n', a)\n",
    "a = a.reshape([1, size, size, 1])"
   ]
  },
  {
   "cell_type": "code",
   "execution_count": null,
   "metadata": {
    "scrolled": false
   },
   "outputs": [],
   "source": [
    "# Testing several simple configurations of kernels.\n",
    "insize = 5\n",
    "ksize = 3\n",
    "stride = 2\n",
    "\n",
    "with tf.Session(config=tf.ConfigProto(log_device_placement=False)) as sess:\n",
    "    for k in range(ksize**2):\n",
    "        # Basic kernel\n",
    "        f = np.zeros(shape=[ksize**2], dtype=np.float32)\n",
    "        f[k] = 1.\n",
    "        print('TEST kernel: \\n', f)\n",
    "        # Hex. depthwise conv2d\n",
    "        f = np.reshape(f, [ksize, ksize, 1, 1])\n",
    "        t = tf.nn.hex_depthwise_conv2d_native_backprop_input(\n",
    "            [1, insize, insize, 1], f, a, [1, stride, stride, 1], 'SAME', data_format='NHWC')        \n",
    "        print('TEST result: \\n', t.eval().squeeze(), '\\n')\n",
    "\n"
   ]
  },
  {
   "cell_type": "code",
   "execution_count": null,
   "metadata": {},
   "outputs": [],
   "source": []
  },
  {
   "cell_type": "markdown",
   "metadata": {},
   "source": [
    "## Backward hexagonal depthwise convolution 2D - kernel\n",
    "\n",
    "Testing the backward convolution, input gradient."
   ]
  },
  {
   "cell_type": "code",
   "execution_count": null,
   "metadata": {},
   "outputs": [],
   "source": [
    "size = 3\n",
    "shape = [size, size]\n",
    "a = np.reshape(np.linspace(1.0, size**2, num=size**2, dtype=np.float32), shape)\n",
    "\n",
    "print('Test Tensor: \\n', a)\n",
    "a = a.reshape([1, size, size, 1])"
   ]
  },
  {
   "cell_type": "code",
   "execution_count": null,
   "metadata": {},
   "outputs": [],
   "source": [
    "# Testing several simple configurations of kernels.\n",
    "ksize = 3\n",
    "\n",
    "with tf.Session(config=tf.ConfigProto(log_device_placement=False)) as sess:\n",
    "    for k in range(ksize**2):\n",
    "        # Basic kernel\n",
    "        f = np.zeros(shape=[ksize**2], dtype=np.float32)\n",
    "        f[k] = 1.\n",
    "        print('TEST out gradient: \\n', f.reshape([3, 3]))\n",
    "        # Hex. depthwise conv2d\n",
    "        f = np.reshape(f, [1, ksize, ksize, 1])\n",
    "        t = tf.nn.hex_depthwise_conv2d_native_backprop_filter(\n",
    "            f, [3, 3, 1, 1], a, [1, 1, 1, 1], 'SAME', data_format='NHWC')        \n",
    "        print('TEST result: \\n', t.eval().squeeze().flatten(), '\\n')\n"
   ]
  },
  {
   "cell_type": "code",
   "execution_count": null,
   "metadata": {},
   "outputs": [],
   "source": []
  },
  {
   "cell_type": "markdown",
   "metadata": {},
   "source": [
    "## Help..."
   ]
  },
  {
   "cell_type": "code",
   "execution_count": null,
   "metadata": {},
   "outputs": [],
   "source": [
    "tf.nn.hex_depthwise_conv2d?"
   ]
  },
  {
   "cell_type": "code",
   "execution_count": null,
   "metadata": {},
   "outputs": [],
   "source": [
    "tf.nn.depthwise_conv2d_native_backprop_filter?"
   ]
  },
  {
   "cell_type": "code",
   "execution_count": null,
   "metadata": {},
   "outputs": [],
   "source": [
    "tf.nn.hex_depthwise_conv2d_native_backprop_input?"
   ]
  },
  {
   "cell_type": "code",
   "execution_count": null,
   "metadata": {},
   "outputs": [],
   "source": [
    "tf.nn.hex_depthwise_conv2d_native_backprop_filter?"
   ]
  },
  {
   "cell_type": "code",
   "execution_count": null,
   "metadata": {},
   "outputs": [],
   "source": []
  }
 ],
 "metadata": {
  "kernelspec": {
   "display_name": "Python 3",
   "language": "python",
   "name": "python3"
  },
  "language_info": {
   "codemirror_mode": {
    "name": "ipython",
    "version": 3
   },
   "file_extension": ".py",
   "mimetype": "text/x-python",
   "name": "python",
   "nbconvert_exporter": "python",
   "pygments_lexer": "ipython3",
   "version": "3.6.4"
  }
 },
 "nbformat": 4,
 "nbformat_minor": 2
}
