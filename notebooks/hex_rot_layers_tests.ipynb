{
 "cells": [
  {
   "cell_type": "markdown",
   "metadata": {},
   "source": [
    "# Testing hexagonal kernels and backward gradients"
   ]
  },
  {
   "cell_type": "code",
   "execution_count": 1,
   "metadata": {},
   "outputs": [],
   "source": [
    "import numpy as np\n",
    "import tensorflow as tf\n",
    "\n",
    "import os\n",
    "import tensorflow as tf\n",
    "\n",
    "os.environ['TF_CPP_MIN_LOG_LEVEL'] = '0'\n",
    "tf.logging.set_verbosity(tf.logging.DEBUG)"
   ]
  },
  {
   "cell_type": "code",
   "execution_count": null,
   "metadata": {},
   "outputs": [],
   "source": []
  },
  {
   "cell_type": "markdown",
   "metadata": {},
   "source": [
    "## Hexagonal layers\n",
    "\n",
    "Test out the basic hexagonal layers."
   ]
  },
  {
   "cell_type": "code",
   "execution_count": 2,
   "metadata": {},
   "outputs": [],
   "source": [
    "from tensorflow.contrib import hex_layers"
   ]
  },
  {
   "cell_type": "code",
   "execution_count": 3,
   "metadata": {},
   "outputs": [
    {
     "name": "stdout",
     "output_type": "stream",
     "text": [
      "Test Tensor: \n",
      " [[  1.   2.   3.   4.   5.   6.]\n",
      " [  7.   8.   9.  10.  11.  12.]\n",
      " [ 13.  14.  15.  16.  17.  18.]\n",
      " [ 19.  20.  21.  22.  23.  24.]\n",
      " [ 25.  26.  27.  28.  29.  30.]\n",
      " [ 31.  32.  33.  34.  35.  36.]]\n"
     ]
    }
   ],
   "source": [
    "size = 6\n",
    "shape = [size, size]\n",
    "a = np.reshape(np.linspace(1.0, size**2, num=size**2, dtype=np.float32), shape)\n",
    "\n",
    "print('Test Tensor: \\n', a)\n",
    "a = a.reshape([1, size, size, 1])"
   ]
  },
  {
   "cell_type": "code",
   "execution_count": 4,
   "metadata": {},
   "outputs": [],
   "source": [
    "t = hex_layers.hex_depthwise_conv2d(a, 3)\n",
    "t = hex_layers.hex_downscale2d(a, 2)"
   ]
  },
  {
   "cell_type": "code",
   "execution_count": 5,
   "metadata": {},
   "outputs": [
    {
     "name": "stdout",
     "output_type": "stream",
     "text": [
      "[[  1.    2.    3.    4.    5.    6. ]\n",
      " [  7.5   8.5   9.5  10.5  11.5  12. ]\n",
      " [ 13.   14.   15.   16.   17.   18. ]\n",
      " [ 19.5  20.5  21.5  22.5  23.5  24. ]\n",
      " [ 25.   26.   27.   28.   29.   30. ]\n",
      " [ 31.5  32.5  33.5  34.5  35.5  36. ]]\n"
     ]
    }
   ],
   "source": [
    "# Test cartesian to hexagonal tiling.\n",
    "t = hex_layers.hex_from_cartesian(a, downscale=False)\n",
    "with tf.Session(config=tf.ConfigProto(log_device_placement=False)) as sess:\n",
    "    print(t.eval().squeeze())\n",
    "\n"
   ]
  },
  {
   "cell_type": "code",
   "execution_count": 6,
   "metadata": {},
   "outputs": [
    {
     "data": {
      "text/plain": [
       "TensorShape([Dimension(1), Dimension(6), Dimension(6), Dimension(1)])"
      ]
     },
     "execution_count": 6,
     "metadata": {},
     "output_type": "execute_result"
    }
   ],
   "source": [
    "a.shape\n",
    "t.get_shape()\n"
   ]
  },
  {
   "cell_type": "code",
   "execution_count": 7,
   "metadata": {},
   "outputs": [
    {
     "name": "stdout",
     "output_type": "stream",
     "text": [
      "(1, 6, 1)\n"
     ]
    }
   ],
   "source": [
    "aa = tf.convert_to_tensor(a)\n",
    "l0 = aa[:,0]\n",
    "print(l0.get_shape())\n",
    "\n",
    "# aa."
   ]
  },
  {
   "cell_type": "code",
   "execution_count": 26,
   "metadata": {},
   "outputs": [
    {
     "data": {
      "text/plain": [
       "2"
      ]
     },
     "execution_count": 26,
     "metadata": {},
     "output_type": "execute_result"
    }
   ],
   "source": [
    "5 % 3"
   ]
  },
  {
   "cell_type": "markdown",
   "metadata": {},
   "source": [
    "## Forward hexagonal depthwise convolution 2D\n",
    "\n",
    "Testing the forward convolution."
   ]
  },
  {
   "cell_type": "code",
   "execution_count": 23,
   "metadata": {},
   "outputs": [
    {
     "name": "stdout",
     "output_type": "stream",
     "text": [
      "Test Tensor: \n",
      " [[  1.   2.   3.   4.   5.]\n",
      " [  6.   7.   8.   9.  10.]\n",
      " [ 11.  12.  13.  14.  15.]\n",
      " [ 16.  17.  18.  19.  20.]\n",
      " [ 21.  22.  23.  24.  25.]]\n"
     ]
    }
   ],
   "source": [
    "size = 5\n",
    "shape = [size, size]\n",
    "a = np.reshape(np.linspace(1.0, size**2, num=size**2, dtype=np.float32), shape)\n",
    "\n",
    "print('Test Tensor: \\n', a)\n",
    "a = a.reshape([1, size, size, 1])"
   ]
  },
  {
   "cell_type": "code",
   "execution_count": 31,
   "metadata": {
    "scrolled": false
   },
   "outputs": [
    {
     "name": "stdout",
     "output_type": "stream",
     "text": [
      "TEST kernel 0: \n",
      " [ 1.  0.  0.  0.  0.  0.  0.  0.  0.  0.  0.  0.  0.  0.  0.  0.  0.  0.\n",
      "  0.  0.  0.  0.  0.  0.  0.]\n",
      "TEST result: \n",
      " [[  1.   2.   3.   4.   5.]\n",
      " [  6.   7.   8.   9.  10.]\n",
      " [ 11.  12.  13.  14.  15.]\n",
      " [ 16.  17.  18.  19.  20.]\n",
      " [ 21.  22.  23.  24.  25.]] \n",
      "Inverse:\n",
      " [[  1.   2.   3.   4.   5.]\n",
      " [  6.   7.   8.   9.  10.]\n",
      " [ 11.  12.  13.  14.  15.]\n",
      " [ 16.  17.  18.  19.  20.]\n",
      " [ 21.  22.  23.  24.  25.]] \n",
      "\n",
      "TEST kernel 1: \n",
      " [ 0.  1.  0.  0.  0.  0.  0.  0.  0.  0.  0.  0.  0.  0.  0.  0.  0.  0.\n",
      "  0.  0.  0.  0.  0.  0.  0.]\n",
      "TEST result: \n",
      " [[  0.   0.   0.   0.   0.]\n",
      " [  1.   2.   3.   4.   5.]\n",
      " [  0.   6.   7.   8.   9.]\n",
      " [ 11.  12.  13.  14.  15.]\n",
      " [  0.  16.  17.  18.  19.]] \n",
      "Inverse:\n",
      " [[  1.   2.   3.   4.   5.]\n",
      " [  6.   7.   8.   9.   0.]\n",
      " [ 11.  12.  13.  14.  15.]\n",
      " [ 16.  17.  18.  19.   0.]\n",
      " [  0.   0.   0.   0.   0.]] \n",
      "\n",
      "TEST kernel 2: \n",
      " [ 0.  0.  1.  0.  0.  0.  0.  0.  0.  0.  0.  0.  0.  0.  0.  0.  0.  0.\n",
      "  0.  0.  0.  0.  0.  0.  0.]\n",
      "TEST result: \n",
      " [[  0.   0.   0.   0.   0.]\n",
      " [  2.   3.   4.   5.   0.]\n",
      " [  6.   7.   8.   9.  10.]\n",
      " [ 12.  13.  14.  15.   0.]\n",
      " [ 16.  17.  18.  19.  20.]] \n",
      "Inverse:\n",
      " [[  0.   2.   3.   4.   5.]\n",
      " [  6.   7.   8.   9.  10.]\n",
      " [  0.  12.  13.  14.  15.]\n",
      " [ 16.  17.  18.  19.  20.]\n",
      " [  0.   0.   0.   0.   0.]] \n",
      "\n",
      "TEST kernel 3: \n",
      " [ 0.  0.  0.  1.  0.  0.  0.  0.  0.  0.  0.  0.  0.  0.  0.  0.  0.  0.\n",
      "  0.  0.  0.  0.  0.  0.  0.]\n",
      "TEST result: \n",
      " [[  2.   3.   4.   5.   0.]\n",
      " [  7.   8.   9.  10.   0.]\n",
      " [ 12.  13.  14.  15.   0.]\n",
      " [ 17.  18.  19.  20.   0.]\n",
      " [ 22.  23.  24.  25.   0.]] \n",
      "Inverse:\n",
      " [[  0.   2.   3.   4.   5.]\n",
      " [  0.   7.   8.   9.  10.]\n",
      " [  0.  12.  13.  14.  15.]\n",
      " [  0.  17.  18.  19.  20.]\n",
      " [  0.  22.  23.  24.  25.]] \n",
      "\n",
      "TEST kernel 4: \n",
      " [ 0.  0.  0.  0.  1.  0.  0.  0.  0.  0.  0.  0.  0.  0.  0.  0.  0.  0.\n",
      "  0.  0.  0.  0.  0.  0.  0.]\n",
      "TEST result: \n",
      " [[  6.   7.   8.   9.  10.]\n",
      " [ 12.  13.  14.  15.   0.]\n",
      " [ 16.  17.  18.  19.  20.]\n",
      " [ 22.  23.  24.  25.   0.]\n",
      " [  0.   0.   0.   0.   0.]] \n",
      "Inverse:\n",
      " [[  0.   0.   0.   0.   0.]\n",
      " [  6.   7.   8.   9.  10.]\n",
      " [  0.  12.  13.  14.  15.]\n",
      " [ 16.  17.  18.  19.  20.]\n",
      " [  0.  22.  23.  24.  25.]] \n",
      "\n",
      "TEST kernel 5: \n",
      " [ 0.  0.  0.  0.  0.  1.  0.  0.  0.  0.  0.  0.  0.  0.  0.  0.  0.  0.\n",
      "  0.  0.  0.  0.  0.  0.  0.]\n",
      "TEST result: \n",
      " [[  0.   6.   7.   8.   9.]\n",
      " [ 11.  12.  13.  14.  15.]\n",
      " [  0.  16.  17.  18.  19.]\n",
      " [ 21.  22.  23.  24.  25.]\n",
      " [  0.   0.   0.   0.   0.]] \n",
      "Inverse:\n",
      " [[  0.   0.   0.   0.   0.]\n",
      " [  6.   7.   8.   9.   0.]\n",
      " [ 11.  12.  13.  14.  15.]\n",
      " [ 16.  17.  18.  19.   0.]\n",
      " [ 21.  22.  23.  24.  25.]] \n",
      "\n",
      "TEST kernel 6: \n",
      " [ 0.  0.  0.  0.  0.  0.  1.  0.  0.  0.  0.  0.  0.  0.  0.  0.  0.  0.\n",
      "  0.  0.  0.  0.  0.  0.  0.]\n",
      "TEST result: \n",
      " [[  0.   1.   2.   3.   4.]\n",
      " [  0.   6.   7.   8.   9.]\n",
      " [  0.  11.  12.  13.  14.]\n",
      " [  0.  16.  17.  18.  19.]\n",
      " [  0.  21.  22.  23.  24.]] \n",
      "Inverse:\n",
      " [[  1.   2.   3.   4.   0.]\n",
      " [  6.   7.   8.   9.   0.]\n",
      " [ 11.  12.  13.  14.   0.]\n",
      " [ 16.  17.  18.  19.   0.]\n",
      " [ 21.  22.  23.  24.   0.]] \n",
      "\n",
      "TEST kernel 7: \n",
      " [ 0.  0.  0.  0.  0.  0.  0.  1.  0.  0.  0.  0.  0.  0.  0.  0.  0.  0.\n",
      "  0.  0.  0.  0.  0.  0.  0.]\n",
      "TEST result: \n",
      " [[  0.   0.   0.   0.   0.]\n",
      " [  0.   0.   0.   0.   0.]\n",
      " [  0.   1.   2.   3.   4.]\n",
      " [  0.   6.   7.   8.   9.]\n",
      " [  0.  11.  12.  13.  14.]] \n",
      "Inverse:\n",
      " [[  1.   2.   3.   4.   0.]\n",
      " [  6.   7.   8.   9.   0.]\n",
      " [ 11.  12.  13.  14.   0.]\n",
      " [  0.   0.   0.   0.   0.]\n",
      " [  0.   0.   0.   0.   0.]] \n",
      "\n",
      "TEST kernel 8: \n",
      " [ 0.  0.  0.  0.  0.  0.  0.  0.  1.  0.  0.  0.  0.  0.  0.  0.  0.  0.\n",
      "  0.  0.  0.  0.  0.  0.  0.]\n",
      "TEST result: \n",
      " [[  0.   0.   0.   0.   0.]\n",
      " [  0.   0.   0.   0.   0.]\n",
      " [  1.   2.   3.   4.   5.]\n",
      " [  6.   7.   8.   9.  10.]\n",
      " [ 11.  12.  13.  14.  15.]] \n",
      "Inverse:\n",
      " [[  1.   2.   3.   4.   5.]\n",
      " [  6.   7.   8.   9.  10.]\n",
      " [ 11.  12.  13.  14.  15.]\n",
      " [  0.   0.   0.   0.   0.]\n",
      " [  0.   0.   0.   0.   0.]] \n",
      "\n",
      "TEST kernel 9: \n",
      " [ 0.  0.  0.  0.  0.  0.  0.  0.  0.  1.  0.  0.  0.  0.  0.  0.  0.  0.\n",
      "  0.  0.  0.  0.  0.  0.  0.]\n",
      "TEST result: \n",
      " [[  0.   0.   0.   0.   0.]\n",
      " [  0.   0.   0.   0.   0.]\n",
      " [  2.   3.   4.   5.   0.]\n",
      " [  7.   8.   9.  10.   0.]\n",
      " [ 12.  13.  14.  15.   0.]] \n",
      "Inverse:\n",
      " [[  0.   2.   3.   4.   5.]\n",
      " [  0.   7.   8.   9.  10.]\n",
      " [  0.  12.  13.  14.  15.]\n",
      " [  0.   0.   0.   0.   0.]\n",
      " [  0.   0.   0.   0.   0.]] \n",
      "\n",
      "TEST kernel 10: \n",
      " [ 0.  0.  0.  0.  0.  0.  0.  0.  0.  0.  1.  0.  0.  0.  0.  0.  0.  0.\n",
      "  0.  0.  0.  0.  0.  0.  0.]\n",
      "TEST result: \n",
      " [[  0.   0.   0.   0.   0.]\n",
      " [  3.   4.   5.   0.   0.]\n",
      " [  7.   8.   9.  10.   0.]\n",
      " [ 13.  14.  15.   0.   0.]\n",
      " [ 17.  18.  19.  20.   0.]] \n",
      "Inverse:\n",
      " [[  0.   0.   3.   4.   5.]\n",
      " [  0.   7.   8.   9.  10.]\n",
      " [  0.   0.  13.  14.  15.]\n",
      " [  0.  17.  18.  19.  20.]\n",
      " [  0.   0.   0.   0.   0.]] \n",
      "\n",
      "TEST kernel 11: \n",
      " [ 0.  0.  0.  0.  0.  0.  0.  0.  0.  0.  0.  1.  0.  0.  0.  0.  0.  0.\n",
      "  0.  0.  0.  0.  0.  0.  0.]\n",
      "TEST result: \n",
      " [[  3.   4.   5.   0.   0.]\n",
      " [  8.   9.  10.   0.   0.]\n",
      " [ 13.  14.  15.   0.   0.]\n",
      " [ 18.  19.  20.   0.   0.]\n",
      " [ 23.  24.  25.   0.   0.]] \n",
      "Inverse:\n",
      " [[  0.   0.   3.   4.   5.]\n",
      " [  0.   0.   8.   9.  10.]\n",
      " [  0.   0.  13.  14.  15.]\n",
      " [  0.   0.  18.  19.  20.]\n",
      " [  0.   0.  23.  24.  25.]] \n",
      "\n",
      "TEST kernel 12: \n",
      " [ 0.  0.  0.  0.  0.  0.  0.  0.  0.  0.  0.  0.  1.  0.  0.  0.  0.  0.\n",
      "  0.  0.  0.  0.  0.  0.  0.]\n",
      "TEST result: \n",
      " [[  7.   8.   9.  10.   0.]\n",
      " [ 13.  14.  15.   0.   0.]\n",
      " [ 17.  18.  19.  20.   0.]\n",
      " [ 23.  24.  25.   0.   0.]\n",
      " [  0.   0.   0.   0.   0.]] \n",
      "Inverse:\n",
      " [[  0.   0.   0.   0.   0.]\n",
      " [  0.   7.   8.   9.  10.]\n",
      " [  0.   0.  13.  14.  15.]\n",
      " [  0.  17.  18.  19.  20.]\n",
      " [  0.   0.  23.  24.  25.]] \n",
      "\n",
      "TEST kernel 13: \n",
      " [ 0.  0.  0.  0.  0.  0.  0.  0.  0.  0.  0.  0.  0.  1.  0.  0.  0.  0.\n",
      "  0.  0.  0.  0.  0.  0.  0.]\n",
      "TEST result: \n",
      " [[ 12.  13.  14.  15.   0.]\n",
      " [ 17.  18.  19.  20.   0.]\n",
      " [ 22.  23.  24.  25.   0.]\n",
      " [  0.   0.   0.   0.   0.]\n",
      " [  0.   0.   0.   0.   0.]] \n",
      "Inverse:\n",
      " [[  0.   0.   0.   0.   0.]\n",
      " [  0.   0.   0.   0.   0.]\n",
      " [  0.  12.  13.  14.  15.]\n",
      " [  0.  17.  18.  19.  20.]\n",
      " [  0.  22.  23.  24.  25.]] \n",
      "\n",
      "TEST kernel 14: \n",
      " [ 0.  0.  0.  0.  0.  0.  0.  0.  0.  0.  0.  0.  0.  0.  1.  0.  0.  0.\n",
      "  0.  0.  0.  0.  0.  0.  0.]\n",
      "TEST result: \n",
      " [[ 11.  12.  13.  14.  15.]\n",
      " [ 16.  17.  18.  19.  20.]\n",
      " [ 21.  22.  23.  24.  25.]\n",
      " [  0.   0.   0.   0.   0.]\n",
      " [  0.   0.   0.   0.   0.]] \n",
      "Inverse:\n",
      " [[  0.   0.   0.   0.   0.]\n",
      " [  0.   0.   0.   0.   0.]\n",
      " [ 11.  12.  13.  14.  15.]\n",
      " [ 16.  17.  18.  19.  20.]\n",
      " [ 21.  22.  23.  24.  25.]] \n",
      "\n",
      "TEST kernel 15: \n",
      " [ 0.  0.  0.  0.  0.  0.  0.  0.  0.  0.  0.  0.  0.  0.  0.  1.  0.  0.\n",
      "  0.  0.  0.  0.  0.  0.  0.]\n",
      "TEST result: \n",
      " [[  0.  11.  12.  13.  14.]\n",
      " [  0.  16.  17.  18.  19.]\n",
      " [  0.  21.  22.  23.  24.]\n",
      " [  0.   0.   0.   0.   0.]\n",
      " [  0.   0.   0.   0.   0.]] \n",
      "Inverse:\n",
      " [[  0.   0.   0.   0.   0.]\n",
      " [  0.   0.   0.   0.   0.]\n",
      " [ 11.  12.  13.  14.   0.]\n",
      " [ 16.  17.  18.  19.   0.]\n",
      " [ 21.  22.  23.  24.   0.]] \n",
      "\n",
      "TEST kernel 16: \n",
      " [ 0.  0.  0.  0.  0.  0.  0.  0.  0.  0.  0.  0.  0.  0.  0.  0.  1.  0.\n",
      "  0.  0.  0.  0.  0.  0.  0.]\n",
      "TEST result: \n",
      " [[  0.   0.   6.   7.   8.]\n",
      " [  0.  11.  12.  13.  14.]\n",
      " [  0.   0.  16.  17.  18.]\n",
      " [  0.  21.  22.  23.  24.]\n",
      " [  0.   0.   0.   0.   0.]] \n",
      "Inverse:\n",
      " [[  0.   0.   0.   0.   0.]\n",
      " [  6.   7.   8.   0.   0.]\n",
      " [ 11.  12.  13.  14.   0.]\n",
      " [ 16.  17.  18.   0.   0.]\n",
      " [ 21.  22.  23.  24.   0.]] \n",
      "\n",
      "TEST kernel 17: \n",
      " [ 0.  0.  0.  0.  0.  0.  0.  0.  0.  0.  0.  0.  0.  0.  0.  0.  0.  1.\n",
      "  0.  0.  0.  0.  0.  0.  0.]\n",
      "TEST result: \n",
      " [[  0.   0.   1.   2.   3.]\n",
      " [  0.   0.   6.   7.   8.]\n",
      " [  0.   0.  11.  12.  13.]\n",
      " [  0.   0.  16.  17.  18.]\n",
      " [  0.   0.  21.  22.  23.]] \n",
      "Inverse:\n",
      " [[  1.   2.   3.   0.   0.]\n",
      " [  6.   7.   8.   0.   0.]\n",
      " [ 11.  12.  13.   0.   0.]\n",
      " [ 16.  17.  18.   0.   0.]\n",
      " [ 21.  22.  23.   0.   0.]] \n",
      "\n",
      "TEST kernel 18: \n",
      " [ 0.  0.  0.  0.  0.  0.  0.  0.  0.  0.  0.  0.  0.  0.  0.  0.  0.  0.\n",
      "  1.  0.  0.  0.  0.  0.  0.]\n",
      "TEST result: \n",
      " [[  0.   0.   0.   0.   0.]\n",
      " [  0.   1.   2.   3.   4.]\n",
      " [  0.   0.   6.   7.   8.]\n",
      " [  0.  11.  12.  13.  14.]\n",
      " [  0.   0.  16.  17.  18.]] \n",
      "Inverse:\n",
      " [[  1.   2.   3.   4.   0.]\n",
      " [  6.   7.   8.   0.   0.]\n",
      " [ 11.  12.  13.  14.   0.]\n",
      " [ 16.  17.  18.   0.   0.]\n",
      " [  0.   0.   0.   0.   0.]] \n",
      "\n"
     ]
    }
   ],
   "source": [
    "# Testing several simple configurations of kernels.\n",
    "radius = 2\n",
    "ksize = 2*radius+1\n",
    "stride = 1\n",
    "\n",
    "with tf.Session(config=tf.ConfigProto(log_device_placement=False)) as sess:\n",
    "    idx = 0\n",
    "    for rad in range(radius+1):\n",
    "        rsize = max(1, rad*6)\n",
    "        for i in range(rsize):\n",
    "            # Basic kernel\n",
    "            f = np.zeros(shape=[ksize**2], dtype=np.float32)\n",
    "            f[idx] = 1.\n",
    "            print('TEST kernel %i: \\n' % idx, f)\n",
    "            # Inverse kernel.\n",
    "            delta = rad*3 if i < rad*3 else -rad*3\n",
    "            fi = np.zeros(shape=[ksize**2], dtype=np.float32)\n",
    "            fi[idx+delta] = 1.\n",
    "            # Hex. depthwise conv2d\n",
    "            f = np.reshape(f, [ksize, ksize, 1, 1])\n",
    "            t = tf.nn.hex_depthwise_conv2d(a, f, [1, stride, stride, 1], 'SAME', data_format='NHWC')\n",
    "            r = t.eval()\n",
    "            # Inverse computation\n",
    "            fi = np.reshape(fi, [ksize, ksize, 1, 1])\n",
    "            ti = tf.nn.hex_depthwise_conv2d(r, fi, [1, stride, stride, 1], 'SAME', data_format='NHWC')\n",
    "            ri = ti.eval()\n",
    "            \n",
    "            print('TEST result: \\n', r.squeeze(), '\\nInverse:\\n', ri.squeeze(), '\\n')\n",
    "            idx += 1\n",
    "\n",
    "#     for k in range(ksize**2):\n",
    "#         # Basic kernel\n",
    "#         f = np.zeros(shape=[ksize**2], dtype=np.float32)\n",
    "#         f[k] = 1.\n",
    "#         print('TEST kernel %i: \\n' % k, f)\n",
    "#         # Hex. depthwise conv2d\n",
    "#         f = np.reshape(f, [ksize, ksize, 1, 1])\n",
    "#         t = tf.nn.hex_depthwise_conv2d(a, f, [1, stride, stride, 1], 'SAME', data_format='NHWC')\n",
    "#         r = t.eval()\n",
    "#         print('TEST result: \\n', r.squeeze(), '\\n')\n"
   ]
  },
  {
   "cell_type": "code",
   "execution_count": null,
   "metadata": {},
   "outputs": [],
   "source": []
  },
  {
   "cell_type": "markdown",
   "metadata": {},
   "source": [
    "## Backward hexagonal depthwise convolution 2D - Input\n",
    "\n",
    "Testing the backward convolution, input gradient."
   ]
  },
  {
   "cell_type": "code",
   "execution_count": 11,
   "metadata": {},
   "outputs": [
    {
     "name": "stdout",
     "output_type": "stream",
     "text": [
      "Test Tensor: \n",
      " [[ 1.  2.  3.]\n",
      " [ 4.  5.  6.]\n",
      " [ 7.  8.  9.]]\n"
     ]
    }
   ],
   "source": [
    "size = 3\n",
    "shape = [size, size]\n",
    "a = np.reshape(np.linspace(1.0, size**2, num=size**2, dtype=np.float32), shape)\n",
    "\n",
    "print('Test Tensor: \\n', a)\n",
    "a = a.reshape([1, size, size, 1])"
   ]
  },
  {
   "cell_type": "code",
   "execution_count": 12,
   "metadata": {
    "scrolled": false
   },
   "outputs": [
    {
     "name": "stdout",
     "output_type": "stream",
     "text": [
      "TEST kernel: \n",
      " [ 1.  0.  0.  0.  0.  0.  0.  0.  0.]\n",
      "TEST result: \n",
      " [[ 1.  0.  2.  0.  3.]\n",
      " [ 0.  0.  0.  0.  0.]\n",
      " [ 0.  4.  0.  5.  0.]\n",
      " [ 0.  0.  0.  0.  0.]\n",
      " [ 7.  0.  8.  0.  9.]] \n",
      "\n",
      "TEST kernel: \n",
      " [ 0.  1.  0.  0.  0.  0.  0.  0.  0.]\n",
      "TEST result: \n",
      " [[ 1.  0.  2.  0.  3.]\n",
      " [ 0.  0.  0.  0.  0.]\n",
      " [ 0.  4.  0.  5.  0.]\n",
      " [ 0.  0.  0.  0.  0.]\n",
      " [ 7.  0.  8.  0.  9.]] \n",
      "\n",
      "TEST kernel: \n",
      " [ 0.  0.  1.  0.  0.  0.  0.  0.  0.]\n",
      "TEST result: \n",
      " [[ 1.  0.  2.  0.  3.]\n",
      " [ 0.  0.  0.  0.  0.]\n",
      " [ 0.  4.  0.  5.  0.]\n",
      " [ 0.  0.  0.  0.  0.]\n",
      " [ 7.  0.  8.  0.  9.]] \n",
      "\n",
      "TEST kernel: \n",
      " [ 0.  0.  0.  1.  0.  0.  0.  0.  0.]\n",
      "TEST result: \n",
      " [[ 1.  0.  2.  0.  3.]\n",
      " [ 0.  0.  0.  0.  0.]\n",
      " [ 0.  4.  0.  5.  0.]\n",
      " [ 0.  0.  0.  0.  0.]\n",
      " [ 7.  0.  8.  0.  9.]] \n",
      "\n",
      "TEST kernel: \n",
      " [ 0.  0.  0.  0.  1.  0.  0.  0.  0.]\n",
      "TEST result: \n",
      " [[ 1.  0.  2.  0.  3.]\n",
      " [ 0.  0.  0.  0.  0.]\n",
      " [ 0.  4.  0.  5.  0.]\n",
      " [ 0.  0.  0.  0.  0.]\n",
      " [ 7.  0.  8.  0.  9.]] \n",
      "\n",
      "TEST kernel: \n",
      " [ 0.  0.  0.  0.  0.  1.  0.  0.  0.]\n",
      "TEST result: \n",
      " [[ 1.  0.  2.  0.  3.]\n",
      " [ 0.  0.  0.  0.  0.]\n",
      " [ 0.  4.  0.  5.  0.]\n",
      " [ 0.  0.  0.  0.  0.]\n",
      " [ 7.  0.  8.  0.  9.]] \n",
      "\n",
      "TEST kernel: \n",
      " [ 0.  0.  0.  0.  0.  0.  1.  0.  0.]\n",
      "TEST result: \n",
      " [[ 1.  0.  2.  0.  3.]\n",
      " [ 0.  0.  0.  0.  0.]\n",
      " [ 0.  4.  0.  5.  0.]\n",
      " [ 0.  0.  0.  0.  0.]\n",
      " [ 7.  0.  8.  0.  9.]] \n",
      "\n",
      "TEST kernel: \n",
      " [ 0.  0.  0.  0.  0.  0.  0.  1.  0.]\n",
      "TEST result: \n",
      " [[ 1.  0.  2.  0.  3.]\n",
      " [ 0.  0.  0.  0.  0.]\n",
      " [ 0.  4.  0.  5.  0.]\n",
      " [ 0.  0.  0.  0.  0.]\n",
      " [ 7.  0.  8.  0.  9.]] \n",
      "\n",
      "TEST kernel: \n",
      " [ 0.  0.  0.  0.  0.  0.  0.  0.  1.]\n",
      "TEST result: \n",
      " [[ 1.  0.  2.  0.  3.]\n",
      " [ 0.  0.  0.  0.  0.]\n",
      " [ 0.  4.  0.  5.  0.]\n",
      " [ 0.  0.  0.  0.  0.]\n",
      " [ 7.  0.  8.  0.  9.]] \n",
      "\n"
     ]
    }
   ],
   "source": [
    "# Testing several simple configurations of kernels.\n",
    "insize = 5\n",
    "ksize = 3\n",
    "stride = 2\n",
    "\n",
    "with tf.Session(config=tf.ConfigProto(log_device_placement=False)) as sess:\n",
    "    for k in range(ksize**2):\n",
    "        # Basic kernel\n",
    "        f = np.zeros(shape=[ksize**2], dtype=np.float32)\n",
    "        f[k] = 1.\n",
    "        print('TEST kernel: \\n', f)\n",
    "        # Hex. depthwise conv2d\n",
    "        f = np.reshape(f, [ksize, ksize, 1, 1])\n",
    "        t = tf.nn.hex_depthwise_conv2d_native_backprop_input(\n",
    "            [1, insize, insize, 1], f, a, [1, stride, stride, 1], 'SAME', data_format='NHWC')        \n",
    "        print('TEST result: \\n', t.eval().squeeze(), '\\n')\n",
    "\n"
   ]
  },
  {
   "cell_type": "code",
   "execution_count": null,
   "metadata": {},
   "outputs": [],
   "source": []
  },
  {
   "cell_type": "markdown",
   "metadata": {},
   "source": [
    "## Backward hexagonal depthwise convolution 2D - kernel\n",
    "\n",
    "Testing the backward convolution, input gradient."
   ]
  },
  {
   "cell_type": "code",
   "execution_count": 13,
   "metadata": {},
   "outputs": [
    {
     "name": "stdout",
     "output_type": "stream",
     "text": [
      "Test Tensor: \n",
      " [[ 1.  2.  3.]\n",
      " [ 4.  5.  6.]\n",
      " [ 7.  8.  9.]]\n"
     ]
    }
   ],
   "source": [
    "size = 3\n",
    "shape = [size, size]\n",
    "a = np.reshape(np.linspace(1.0, size**2, num=size**2, dtype=np.float32), shape)\n",
    "\n",
    "print('Test Tensor: \\n', a)\n",
    "a = a.reshape([1, size, size, 1])"
   ]
  },
  {
   "cell_type": "code",
   "execution_count": 14,
   "metadata": {},
   "outputs": [
    {
     "name": "stdout",
     "output_type": "stream",
     "text": [
      "TEST out gradient: \n",
      " [[ 1.  0.  0.]\n",
      " [ 0.  0.  0.]\n",
      " [ 0.  0.  0.]]\n",
      "TEST result: \n",
      " [ 1.  4.  0.  0.  0.  0.  2.  0.  0.] \n",
      "\n",
      "TEST out gradient: \n",
      " [[ 0.  1.  0.]\n",
      " [ 0.  0.  0.]\n",
      " [ 0.  0.  0.]]\n",
      "TEST result: \n",
      " [ 2.  5.  4.  1.  0.  0.  3.  0.  0.] \n",
      "\n",
      "TEST out gradient: \n",
      " [[ 0.  0.  1.]\n",
      " [ 0.  0.  0.]\n",
      " [ 0.  0.  0.]]\n",
      "TEST result: \n",
      " [ 3.  6.  5.  2.  0.  0.  0.  0.  0.] \n",
      "\n",
      "TEST out gradient: \n",
      " [[ 0.  0.  0.]\n",
      " [ 1.  0.  0.]\n",
      " [ 0.  0.  0.]]\n",
      "TEST result: \n",
      " [ 4.  8.  7.  0.  1.  2.  5.  0.  0.] \n",
      "\n",
      "TEST out gradient: \n",
      " [[ 0.  0.  0.]\n",
      " [ 0.  1.  0.]\n",
      " [ 0.  0.  0.]]\n",
      "TEST result: \n",
      " [ 5.  9.  8.  4.  2.  3.  6.  0.  0.] \n",
      "\n",
      "TEST out gradient: \n",
      " [[ 0.  0.  0.]\n",
      " [ 0.  0.  1.]\n",
      " [ 0.  0.  0.]]\n",
      "TEST result: \n",
      " [ 6.  0.  9.  5.  3.  0.  0.  0.  0.] \n",
      "\n",
      "TEST out gradient: \n",
      " [[ 0.  0.  0.]\n",
      " [ 0.  0.  0.]\n",
      " [ 1.  0.  0.]]\n",
      "TEST result: \n",
      " [ 7.  0.  0.  0.  0.  4.  8.  0.  0.] \n",
      "\n",
      "TEST out gradient: \n",
      " [[ 0.  0.  0.]\n",
      " [ 0.  0.  0.]\n",
      " [ 0.  1.  0.]]\n",
      "TEST result: \n",
      " [ 8.  0.  0.  7.  4.  5.  9.  0.  0.] \n",
      "\n",
      "TEST out gradient: \n",
      " [[ 0.  0.  0.]\n",
      " [ 0.  0.  0.]\n",
      " [ 0.  0.  1.]]\n",
      "TEST result: \n",
      " [ 9.  0.  0.  8.  5.  6.  0.  0.  0.] \n",
      "\n"
     ]
    }
   ],
   "source": [
    "# Testing several simple configurations of kernels.\n",
    "ksize = 3\n",
    "\n",
    "with tf.Session(config=tf.ConfigProto(log_device_placement=False)) as sess:\n",
    "    for k in range(ksize**2):\n",
    "        # Basic kernel\n",
    "        f = np.zeros(shape=[ksize**2], dtype=np.float32)\n",
    "        f[k] = 1.\n",
    "        print('TEST out gradient: \\n', f.reshape([3, 3]))\n",
    "        # Hex. depthwise conv2d\n",
    "        f = np.reshape(f, [1, ksize, ksize, 1])\n",
    "        t = tf.nn.hex_depthwise_conv2d_native_backprop_filter(\n",
    "            f, [3, 3, 1, 1], a, [1, 1, 1, 1], 'SAME', data_format='NHWC')        \n",
    "        print('TEST result: \\n', t.eval().squeeze().flatten(), '\\n')\n"
   ]
  },
  {
   "cell_type": "code",
   "execution_count": null,
   "metadata": {},
   "outputs": [],
   "source": []
  },
  {
   "cell_type": "markdown",
   "metadata": {},
   "source": [
    "## Help..."
   ]
  },
  {
   "cell_type": "code",
   "execution_count": 15,
   "metadata": {},
   "outputs": [],
   "source": [
    "tf.nn.hex_depthwise_conv2d?"
   ]
  },
  {
   "cell_type": "code",
   "execution_count": 16,
   "metadata": {},
   "outputs": [],
   "source": [
    "tf.nn.depthwise_conv2d_native_backprop_filter?"
   ]
  },
  {
   "cell_type": "code",
   "execution_count": 17,
   "metadata": {},
   "outputs": [],
   "source": [
    "tf.nn.hex_depthwise_conv2d_native_backprop_input?"
   ]
  },
  {
   "cell_type": "code",
   "execution_count": 18,
   "metadata": {},
   "outputs": [],
   "source": [
    "tf.nn.hex_depthwise_conv2d_native_backprop_filter?"
   ]
  },
  {
   "cell_type": "code",
   "execution_count": null,
   "metadata": {},
   "outputs": [],
   "source": []
  }
 ],
 "metadata": {
  "kernelspec": {
   "display_name": "Python 3",
   "language": "python",
   "name": "python3"
  },
  "language_info": {
   "codemirror_mode": {
    "name": "ipython",
    "version": 3
   },
   "file_extension": ".py",
   "mimetype": "text/x-python",
   "name": "python",
   "nbconvert_exporter": "python",
   "pygments_lexer": "ipython3",
   "version": "3.6.4"
  }
 },
 "nbformat": 4,
 "nbformat_minor": 2
}
