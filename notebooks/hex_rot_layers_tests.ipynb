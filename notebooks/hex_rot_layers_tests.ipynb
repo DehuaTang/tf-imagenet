{
 "cells": [
  {
   "cell_type": "markdown",
   "metadata": {},
   "source": [
    "# Testing hexagonal kernels and backward gradients"
   ]
  },
  {
   "cell_type": "code",
   "execution_count": 1,
   "metadata": {},
   "outputs": [
    {
     "name": "stderr",
     "output_type": "stream",
     "text": [
      "/home/paul/anaconda3/envs/tf_develop/lib/python3.6/site-packages/h5py/__init__.py:36: FutureWarning: Conversion of the second argument of issubdtype from `float` to `np.floating` is deprecated. In future, it will be treated as `np.float64 == np.dtype(float).type`.\n",
      "  from ._conv import register_converters as _register_converters\n"
     ]
    }
   ],
   "source": [
    "import os\n",
    "import sys\n",
    "import numpy as np\n",
    "import tensorflow as tf\n",
    "\n",
    "os.environ['TF_CPP_MIN_LOG_LEVEL'] = '0'\n",
    "tf.logging.set_verbosity(tf.logging.DEBUG)\n",
    "sys.path.append(os.path.abspath('../'))"
   ]
  },
  {
   "cell_type": "code",
   "execution_count": 2,
   "metadata": {},
   "outputs": [
    {
     "name": "stdout",
     "output_type": "stream",
     "text": [
      "hex_layers_tests.ipynb  hex_rot_layers_tests.ipynb\r\n"
     ]
    }
   ],
   "source": [
    "ls"
   ]
  },
  {
   "cell_type": "markdown",
   "metadata": {},
   "source": [
    "# Hexagonal Rotation layers\n",
    "\n",
    "Test out the basic hexagonal layers."
   ]
  },
  {
   "cell_type": "code",
   "execution_count": 3,
   "metadata": {},
   "outputs": [],
   "source": [
    "import tf_extended as tfx\n",
    "from tensorflow.contrib import hex_layers"
   ]
  },
  {
   "cell_type": "code",
   "execution_count": 4,
   "metadata": {},
   "outputs": [
    {
     "name": "stdout",
     "output_type": "stream",
     "text": [
      "Test Tensor: \n",
      " [[ 1.  2.  3.  4.  5.  6.]\n",
      " [ 7.  8.  9. 10. 11. 12.]\n",
      " [13. 14. 15. 16. 17. 18.]\n",
      " [19. 20. 21. 22. 23. 24.]\n",
      " [25. 26. 27. 28. 29. 30.]\n",
      " [31. 32. 33. 34. 35. 36.]]\n"
     ]
    }
   ],
   "source": [
    "size = 6\n",
    "shape = [size, size]\n",
    "a = np.reshape(np.linspace(1.0, size**2, num=size**2, dtype=np.float32), shape)\n",
    "\n",
    "print('Test Tensor: \\n', a)\n",
    "a = a.reshape([1, size, size, 1])"
   ]
  },
  {
   "cell_type": "code",
   "execution_count": 5,
   "metadata": {},
   "outputs": [],
   "source": [
    "t = hex_layers.hex_depthwise_conv2d(a, 3)\n",
    "t = hex_layers.hex_downscale2d(a, 2)"
   ]
  },
  {
   "cell_type": "code",
   "execution_count": 6,
   "metadata": {},
   "outputs": [
    {
     "name": "stdout",
     "output_type": "stream",
     "text": [
      "[[ 1.   2.   3.   4.   5.   6. ]\n",
      " [ 7.5  8.5  9.5 10.5 11.5 12. ]\n",
      " [13.  14.  15.  16.  17.  18. ]\n",
      " [19.5 20.5 21.5 22.5 23.5 24. ]\n",
      " [25.  26.  27.  28.  29.  30. ]\n",
      " [31.5 32.5 33.5 34.5 35.5 36. ]]\n"
     ]
    }
   ],
   "source": [
    "# Test cartesian to hexagonal tiling.\n",
    "t = hex_layers.hex_from_cartesian(a, downscale=False)\n",
    "with tf.Session(config=tf.ConfigProto(log_device_placement=False)) as sess:\n",
    "    print(t.eval().squeeze())"
   ]
  },
  {
   "cell_type": "code",
   "execution_count": 7,
   "metadata": {},
   "outputs": [
    {
     "data": {
      "text/plain": [
       "TensorShape([Dimension(1), Dimension(6), Dimension(6), Dimension(1)])"
      ]
     },
     "execution_count": 7,
     "metadata": {},
     "output_type": "execute_result"
    }
   ],
   "source": [
    "a.shape\n",
    "t.get_shape()"
   ]
  },
  {
   "cell_type": "code",
   "execution_count": null,
   "metadata": {},
   "outputs": [],
   "source": []
  },
  {
   "cell_type": "code",
   "execution_count": null,
   "metadata": {},
   "outputs": [],
   "source": []
  },
  {
   "cell_type": "markdown",
   "metadata": {},
   "source": [
    "# Forward hexagonal rotation depthwise convolution 2D\n",
    "\n",
    "Testing the forward convolution."
   ]
  },
  {
   "cell_type": "code",
   "execution_count": 9,
   "metadata": {},
   "outputs": [
    {
     "name": "stdout",
     "output_type": "stream",
     "text": [
      "Test Tensor: \n",
      " [[ 1.  2.  3.  4.  5.]\n",
      " [ 6.  7.  8.  9. 10.]\n",
      " [11. 12. 13. 14. 15.]\n",
      " [16. 17. 18. 19. 20.]\n",
      " [21. 22. 23. 24. 25.]] \n",
      "\n",
      "Rotation Tensor: \n",
      " [[0. 0. 0. 0. 0.]\n",
      " [0. 0. 0. 0. 0.]\n",
      " [0. 0. 0. 0. 0.]\n",
      " [0. 0. 0. 0. 0.]\n",
      " [0. 0. 0. 0. 0.]]\n"
     ]
    }
   ],
   "source": [
    "size = 5\n",
    "shape = [size, size]\n",
    "\n",
    "# Input tensor\n",
    "a = np.reshape(np.linspace(1.0, size**2, num=size**2, dtype=np.float32), shape)\n",
    "print('Test Tensor: \\n', a, '\\n')\n",
    "a = a.reshape([1, size, size, 1])\n",
    "\n",
    "# Rotation tensor\n",
    "ralpha_zero = np.zeros(shape, dtype=np.float32)\n",
    "print('Rotation Tensor: \\n', ralpha_zero)\n",
    "ralpha_zero = ralpha_zero.reshape([1, size, size, 1])"
   ]
  },
  {
   "cell_type": "markdown",
   "metadata": {},
   "source": [
    "## No rotation"
   ]
  },
  {
   "cell_type": "code",
   "execution_count": 10,
   "metadata": {
    "scrolled": false
   },
   "outputs": [
    {
     "name": "stdout",
     "output_type": "stream",
     "text": [
      "TEST kernel 0. Equality between kernels: True\n",
      "TEST kernel 1. Equality between kernels: True\n",
      "TEST kernel 2. Equality between kernels: True\n",
      "TEST kernel 3. Equality between kernels: True\n",
      "TEST kernel 4. Equality between kernels: True\n",
      "TEST kernel 5. Equality between kernels: True\n",
      "TEST kernel 6. Equality between kernels: True\n",
      "TEST kernel 7. Equality between kernels: True\n",
      "TEST kernel 8. Equality between kernels: True\n",
      "TEST kernel 9. Equality between kernels: True\n",
      "TEST kernel 10. Equality between kernels: True\n",
      "TEST kernel 11. Equality between kernels: True\n",
      "TEST kernel 12. Equality between kernels: True\n",
      "TEST kernel 13. Equality between kernels: True\n",
      "TEST kernel 14. Equality between kernels: True\n",
      "TEST kernel 15. Equality between kernels: True\n",
      "TEST kernel 16. Equality between kernels: True\n",
      "TEST kernel 17. Equality between kernels: True\n",
      "TEST kernel 18. Equality between kernels: True\n"
     ]
    }
   ],
   "source": [
    "# Testing several simple configurations of kernels.\n",
    "radius = 2\n",
    "ksize = 2*radius+1\n",
    "stride = 1\n",
    "\n",
    "with tf.Session(config=tf.ConfigProto(log_device_placement=False)) as sess:\n",
    "    idx = 0\n",
    "    for rad in range(radius+1):\n",
    "        rsize = max(1, rad*6)\n",
    "        for i in range(rsize):\n",
    "            \n",
    "            # Basic kernel\n",
    "            f = np.zeros(shape=[ksize**2], dtype=np.float32)\n",
    "            f[idx] = 1.\n",
    "            # Hexagonal rotation depthwise conv2d.\n",
    "            f = np.reshape(f, [ksize, ksize, 1, 1])\n",
    "            t = tf.nn.hex_rot_depthwise_conv2d_native(\n",
    "                a, f, ralpha_zero, [1, stride, stride, 1], 'SAME', 'NHWC')\n",
    "            r = t.eval()\n",
    "            # Classic hexagonal dw conv2d.\n",
    "            tc = tf.nn.hex_depthwise_conv2d(a, f, [1, stride, stride, 1], 'SAME', data_format='NHWC')\n",
    "            rc = t.eval()\n",
    "            # Equality between methods?\n",
    "            req = np.all(rc == r)\n",
    "            print('TEST kernel %i. Equality between kernels: %s' % (idx, req))\n",
    "            if not req:\n",
    "                print('FAILED result: \\n', r.squeeze(), '\\nClassic:\\n', rc.squeeze(), '\\n')\n",
    "            idx += 1"
   ]
  },
  {
   "cell_type": "markdown",
   "metadata": {},
   "source": [
    "## Constant rotation tensor"
   ]
  },
  {
   "cell_type": "code",
   "execution_count": 11,
   "metadata": {},
   "outputs": [
    {
     "name": "stdout",
     "output_type": "stream",
     "text": [
      "Rotation Tensor: \n",
      " [[0. 0. 0. 0. 0.]\n",
      " [0. 0. 0. 0. 0.]\n",
      " [0. 0. 0. 0. 0.]\n",
      " [0. 0. 0. 0. 0.]\n",
      " [0. 0. 0. 0. 0.]]\n"
     ]
    }
   ],
   "source": [
    "# Rotation tensor\n",
    "ralpha_drift = np.float32(0 / 6.) \n",
    "# ralpha_drift = np.float32(0)\n",
    "ralpha = np.zeros(shape, dtype=np.float32) + ralpha_drift\n",
    "\n",
    "print('Rotation Tensor: \\n', ralpha)\n",
    "ralpha = ralpha.reshape([1, size, size, 1])"
   ]
  },
  {
   "cell_type": "code",
   "execution_count": 12,
   "metadata": {
    "scrolled": true
   },
   "outputs": [
    {
     "name": "stdout",
     "output_type": "stream",
     "text": [
      "TEST kernel 0.\n",
      "TEST result: \n",
      " [[ 1.  2.  3.  4.  5.]\n",
      " [ 6.  7.  8.  9. 10.]\n",
      " [11. 12. 13. 14. 15.]\n",
      " [16. 17. 18. 19. 20.]\n",
      " [21. 22. 23. 24. 25.]] \n",
      "\n",
      "TEST kernel 1.\n",
      "TEST result: \n",
      " [[ 0.  0.  0.  0.  0.]\n",
      " [ 1.  2.  3.  4.  5.]\n",
      " [ 0.  6.  7.  8.  9.]\n",
      " [11. 12. 13. 14. 15.]\n",
      " [ 0. 16. 17. 18. 19.]] \n",
      "\n",
      "TEST kernel 2.\n",
      "TEST result: \n",
      " [[ 0.  0.  0.  0.  0.]\n",
      " [ 2.  3.  4.  5.  0.]\n",
      " [ 6.  7.  8.  9. 10.]\n",
      " [12. 13. 14. 15.  0.]\n",
      " [16. 17. 18. 19. 20.]] \n",
      "\n",
      "TEST kernel 3.\n",
      "TEST result: \n",
      " [[ 2.  3.  4.  5.  0.]\n",
      " [ 7.  8.  9. 10.  0.]\n",
      " [12. 13. 14. 15.  0.]\n",
      " [17. 18. 19. 20.  0.]\n",
      " [22. 23. 24. 25.  0.]] \n",
      "\n",
      "TEST kernel 4.\n",
      "TEST result: \n",
      " [[ 6.  7.  8.  9. 10.]\n",
      " [12. 13. 14. 15.  0.]\n",
      " [16. 17. 18. 19. 20.]\n",
      " [22. 23. 24. 25.  0.]\n",
      " [ 0.  0.  0.  0.  0.]] \n",
      "\n",
      "TEST kernel 5.\n",
      "TEST result: \n",
      " [[ 0.  6.  7.  8.  9.]\n",
      " [11. 12. 13. 14. 15.]\n",
      " [ 0. 16. 17. 18. 19.]\n",
      " [21. 22. 23. 24. 25.]\n",
      " [ 0.  0.  0.  0.  0.]] \n",
      "\n",
      "TEST kernel 6.\n",
      "TEST result: \n",
      " [[ 0.  1.  2.  3.  4.]\n",
      " [ 0.  6.  7.  8.  9.]\n",
      " [ 0. 11. 12. 13. 14.]\n",
      " [ 0. 16. 17. 18. 19.]\n",
      " [ 0. 21. 22. 23. 24.]] \n",
      "\n",
      "TEST kernel 7.\n",
      "TEST result: \n",
      " [[ 0.  0.  0.  0.  0.]\n",
      " [ 0.  0.  0.  0.  0.]\n",
      " [ 0.  1.  2.  3.  4.]\n",
      " [ 0.  6.  7.  8.  9.]\n",
      " [ 0. 11. 12. 13. 14.]] \n",
      "\n",
      "TEST kernel 8.\n",
      "TEST result: \n",
      " [[ 0.  0.  0.  0.  0.]\n",
      " [ 0.  0.  0.  0.  0.]\n",
      " [ 1.  2.  3.  4.  5.]\n",
      " [ 6.  7.  8.  9. 10.]\n",
      " [11. 12. 13. 14. 15.]] \n",
      "\n",
      "TEST kernel 9.\n",
      "TEST result: \n",
      " [[ 0.  0.  0.  0.  0.]\n",
      " [ 0.  0.  0.  0.  0.]\n",
      " [ 2.  3.  4.  5.  0.]\n",
      " [ 7.  8.  9. 10.  0.]\n",
      " [12. 13. 14. 15.  0.]] \n",
      "\n",
      "TEST kernel 10.\n",
      "TEST result: \n",
      " [[ 0.  0.  0.  0.  0.]\n",
      " [ 3.  4.  5.  0.  0.]\n",
      " [ 7.  8.  9. 10.  0.]\n",
      " [13. 14. 15.  0.  0.]\n",
      " [17. 18. 19. 20.  0.]] \n",
      "\n",
      "TEST kernel 11.\n",
      "TEST result: \n",
      " [[ 3.  4.  5.  0.  0.]\n",
      " [ 8.  9. 10.  0.  0.]\n",
      " [13. 14. 15.  0.  0.]\n",
      " [18. 19. 20.  0.  0.]\n",
      " [23. 24. 25.  0.  0.]] \n",
      "\n",
      "TEST kernel 12.\n",
      "TEST result: \n",
      " [[ 7.  8.  9. 10.  0.]\n",
      " [13. 14. 15.  0.  0.]\n",
      " [17. 18. 19. 20.  0.]\n",
      " [23. 24. 25.  0.  0.]\n",
      " [ 0.  0.  0.  0.  0.]] \n",
      "\n",
      "TEST kernel 13.\n",
      "TEST result: \n",
      " [[12. 13. 14. 15.  0.]\n",
      " [17. 18. 19. 20.  0.]\n",
      " [22. 23. 24. 25.  0.]\n",
      " [ 0.  0.  0.  0.  0.]\n",
      " [ 0.  0.  0.  0.  0.]] \n",
      "\n",
      "TEST kernel 14.\n",
      "TEST result: \n",
      " [[11. 12. 13. 14. 15.]\n",
      " [16. 17. 18. 19. 20.]\n",
      " [21. 22. 23. 24. 25.]\n",
      " [ 0.  0.  0.  0.  0.]\n",
      " [ 0.  0.  0.  0.  0.]] \n",
      "\n",
      "TEST kernel 15.\n",
      "TEST result: \n",
      " [[ 0. 11. 12. 13. 14.]\n",
      " [ 0. 16. 17. 18. 19.]\n",
      " [ 0. 21. 22. 23. 24.]\n",
      " [ 0.  0.  0.  0.  0.]\n",
      " [ 0.  0.  0.  0.  0.]] \n",
      "\n",
      "TEST kernel 16.\n",
      "TEST result: \n",
      " [[ 0.  0.  6.  7.  8.]\n",
      " [ 0. 11. 12. 13. 14.]\n",
      " [ 0.  0. 16. 17. 18.]\n",
      " [ 0. 21. 22. 23. 24.]\n",
      " [ 0.  0.  0.  0.  0.]] \n",
      "\n",
      "TEST kernel 17.\n",
      "TEST result: \n",
      " [[ 0.  0.  1.  2.  3.]\n",
      " [ 0.  0.  6.  7.  8.]\n",
      " [ 0.  0. 11. 12. 13.]\n",
      " [ 0.  0. 16. 17. 18.]\n",
      " [ 0.  0. 21. 22. 23.]] \n",
      "\n",
      "TEST kernel 18.\n",
      "TEST result: \n",
      " [[ 0.  0.  0.  0.  0.]\n",
      " [ 0.  1.  2.  3.  4.]\n",
      " [ 0.  0.  6.  7.  8.]\n",
      " [ 0. 11. 12. 13. 14.]\n",
      " [ 0.  0. 16. 17. 18.]] \n",
      "\n"
     ]
    }
   ],
   "source": [
    "# Testing several simple configurations of kernels.\n",
    "radius = 2\n",
    "ksize = 2*radius+1\n",
    "stride = 1\n",
    "\n",
    "with tf.Session(config=tf.ConfigProto(log_device_placement=False)) as sess:\n",
    "    idx = 0\n",
    "    for rad in range(radius+1):\n",
    "        rsize = max(1, rad*6)\n",
    "        for i in range(rsize):\n",
    "            \n",
    "            # Basic kernel\n",
    "            f = np.zeros(shape=[ksize**2], dtype=np.float32)\n",
    "            f[idx] = 1.\n",
    "            # Hexagonal rotation depthwise conv2d.\n",
    "            f = np.reshape(f, [ksize, ksize, 1, 1])\n",
    "            t = tf.nn.hex_rot_depthwise_conv2d_native(\n",
    "                a, f, ralpha, [1, stride, stride, 1], 'SAME', 'NHWC')\n",
    "            r = t.eval()\n",
    "            print('TEST kernel %i.' % (idx))\n",
    "            print('TEST result: \\n', r.squeeze(), '\\n')\n",
    "            idx += 1"
   ]
  },
  {
   "cell_type": "markdown",
   "metadata": {},
   "source": [
    "# Backprop Input - Hexagonal rotation depthwise convolution 2D\n",
    "\n",
    "Testing the backward convolution, input gradient."
   ]
  },
  {
   "cell_type": "code",
   "execution_count": 16,
   "metadata": {},
   "outputs": [
    {
     "name": "stdout",
     "output_type": "stream",
     "text": [
      "Test Tensor: \n",
      " [[1. 2. 3.]\n",
      " [4. 5. 6.]\n",
      " [7. 8. 9.]]\n",
      "Rotation Tensor: \n",
      " [[0.16666667 0.16666667 0.16666667]\n",
      " [0.16666667 0.16666667 0.16666667]\n",
      " [0.16666667 0.16666667 0.16666667]]\n"
     ]
    }
   ],
   "source": [
    "size = 3\n",
    "shape = [size, size]\n",
    "a = np.reshape(np.linspace(1.0, size**2, num=size**2, dtype=np.float32), shape)\n",
    "\n",
    "print('Test Tensor: \\n', a)\n",
    "a = a.reshape([1, size, size, 1])\n",
    "\n",
    "# Rotation tensor\n",
    "ralpha_drift = np.float32(1. / 6.) \n",
    "ralpha = np.zeros(shape, dtype=np.float32) + ralpha_drift\n",
    "print('Rotation Tensor: \\n', ralpha)\n",
    "ralpha = ralpha.reshape([1, size, size, 1])"
   ]
  },
  {
   "cell_type": "code",
   "execution_count": 17,
   "metadata": {
    "scrolled": true
   },
   "outputs": [
    {
     "name": "stdout",
     "output_type": "stream",
     "text": [
      "TEST kernel: \n",
      " [1. 0. 0. 0. 0. 0. 0. 0. 0. 0. 0. 0. 0. 0. 0. 0. 0. 0. 0. 0. 0. 0. 0. 0.\n",
      " 0.]\n",
      "TEST result: \n",
      " [[1. 2. 3.]\n",
      " [4. 5. 6.]\n",
      " [7. 8. 9.]] \n",
      "\n",
      "TEST kernel: \n",
      " [0. 1. 0. 0. 0. 0. 0. 0. 0. 0. 0. 0. 0. 0. 0. 0. 0. 0. 0. 0. 0. 0. 0. 0.\n",
      " 0.]\n",
      "TEST result: \n",
      " [[2. 3. 0.]\n",
      " [5. 6. 0.]\n",
      " [8. 9. 0.]] \n",
      "\n",
      "TEST kernel: \n",
      " [0. 0. 1. 0. 0. 0. 0. 0. 0. 0. 0. 0. 0. 0. 0. 0. 0. 0. 0. 0. 0. 0. 0. 0.\n",
      " 0.]\n",
      "TEST result: \n",
      " [[4. 5. 6.]\n",
      " [8. 9. 0.]\n",
      " [0. 0. 0.]] \n",
      "\n",
      "TEST kernel: \n",
      " [0. 0. 0. 1. 0. 0. 0. 0. 0. 0. 0. 0. 0. 0. 0. 0. 0. 0. 0. 0. 0. 0. 0. 0.\n",
      " 0.]\n",
      "TEST result: \n",
      " [[0. 4. 5.]\n",
      " [7. 8. 9.]\n",
      " [0. 0. 0.]] \n",
      "\n",
      "TEST kernel: \n",
      " [0. 0. 0. 0. 1. 0. 0. 0. 0. 0. 0. 0. 0. 0. 0. 0. 0. 0. 0. 0. 0. 0. 0. 0.\n",
      " 0.]\n",
      "TEST result: \n",
      " [[0. 1. 2.]\n",
      " [0. 4. 5.]\n",
      " [0. 7. 8.]] \n",
      "\n",
      "TEST kernel: \n",
      " [0. 0. 0. 0. 0. 1. 0. 0. 0. 0. 0. 0. 0. 0. 0. 0. 0. 0. 0. 0. 0. 0. 0. 0.\n",
      " 0.]\n",
      "TEST result: \n",
      " [[0. 0. 0.]\n",
      " [1. 2. 3.]\n",
      " [0. 4. 5.]] \n",
      "\n",
      "TEST kernel: \n",
      " [0. 0. 0. 0. 0. 0. 1. 0. 0. 0. 0. 0. 0. 0. 0. 0. 0. 0. 0. 0. 0. 0. 0. 0.\n",
      " 0.]\n",
      "TEST result: \n",
      " [[0. 0. 0.]\n",
      " [2. 3. 0.]\n",
      " [4. 5. 6.]] \n",
      "\n",
      "TEST kernel: \n",
      " [0. 0. 0. 0. 0. 0. 0. 1. 0. 0. 0. 0. 0. 0. 0. 0. 0. 0. 0. 0. 0. 0. 0. 0.\n",
      " 0.]\n",
      "TEST result: \n",
      " [[3. 0. 0.]\n",
      " [6. 0. 0.]\n",
      " [9. 0. 0.]] \n",
      "\n",
      "TEST kernel: \n",
      " [0. 0. 0. 0. 0. 0. 0. 0. 1. 0. 0. 0. 0. 0. 0. 0. 0. 0. 0. 0. 0. 0. 0. 0.\n",
      " 0.]\n",
      "TEST result: \n",
      " [[5. 6. 0.]\n",
      " [9. 0. 0.]\n",
      " [0. 0. 0.]] \n",
      "\n",
      "TEST kernel: \n",
      " [0. 0. 0. 0. 0. 0. 0. 0. 0. 1. 0. 0. 0. 0. 0. 0. 0. 0. 0. 0. 0. 0. 0. 0.\n",
      " 0.]\n",
      "TEST result: \n",
      " [[8. 9. 0.]\n",
      " [0. 0. 0.]\n",
      " [0. 0. 0.]] \n",
      "\n",
      "TEST kernel: \n",
      " [0. 0. 0. 0. 0. 0. 0. 0. 0. 0. 1. 0. 0. 0. 0. 0. 0. 0. 0. 0. 0. 0. 0. 0.\n",
      " 0.]\n",
      "TEST result: \n",
      " [[7. 8. 9.]\n",
      " [0. 0. 0.]\n",
      " [0. 0. 0.]] \n",
      "\n",
      "TEST kernel: \n",
      " [0. 0. 0. 0. 0. 0. 0. 0. 0. 0. 0. 1. 0. 0. 0. 0. 0. 0. 0. 0. 0. 0. 0. 0.\n",
      " 0.]\n",
      "TEST result: \n",
      " [[0. 7. 8.]\n",
      " [0. 0. 0.]\n",
      " [0. 0. 0.]] \n",
      "\n",
      "TEST kernel: \n",
      " [0. 0. 0. 0. 0. 0. 0. 0. 0. 0. 0. 0. 1. 0. 0. 0. 0. 0. 0. 0. 0. 0. 0. 0.\n",
      " 0.]\n",
      "TEST result: \n",
      " [[0. 0. 4.]\n",
      " [0. 7. 8.]\n",
      " [0. 0. 0.]] \n",
      "\n",
      "TEST kernel: \n",
      " [0. 0. 0. 0. 0. 0. 0. 0. 0. 0. 0. 0. 0. 1. 0. 0. 0. 0. 0. 0. 0. 0. 0. 0.\n",
      " 0.]\n",
      "TEST result: \n",
      " [[0. 0. 1.]\n",
      " [0. 0. 4.]\n",
      " [0. 0. 7.]] \n",
      "\n",
      "TEST kernel: \n",
      " [0. 0. 0. 0. 0. 0. 0. 0. 0. 0. 0. 0. 0. 0. 1. 0. 0. 0. 0. 0. 0. 0. 0. 0.\n",
      " 0.]\n",
      "TEST result: \n",
      " [[0. 0. 0.]\n",
      " [0. 1. 2.]\n",
      " [0. 0. 4.]] \n",
      "\n",
      "TEST kernel: \n",
      " [0. 0. 0. 0. 0. 0. 0. 0. 0. 0. 0. 0. 0. 0. 0. 1. 0. 0. 0. 0. 0. 0. 0. 0.\n",
      " 0.]\n",
      "TEST result: \n",
      " [[0. 0. 0.]\n",
      " [0. 0. 0.]\n",
      " [0. 1. 2.]] \n",
      "\n",
      "TEST kernel: \n",
      " [0. 0. 0. 0. 0. 0. 0. 0. 0. 0. 0. 0. 0. 0. 0. 0. 1. 0. 0. 0. 0. 0. 0. 0.\n",
      " 0.]\n",
      "TEST result: \n",
      " [[0. 0. 0.]\n",
      " [0. 0. 0.]\n",
      " [1. 2. 3.]] \n",
      "\n",
      "TEST kernel: \n",
      " [0. 0. 0. 0. 0. 0. 0. 0. 0. 0. 0. 0. 0. 0. 0. 0. 0. 1. 0. 0. 0. 0. 0. 0.\n",
      " 0.]\n",
      "TEST result: \n",
      " [[0. 0. 0.]\n",
      " [0. 0. 0.]\n",
      " [2. 3. 0.]] \n",
      "\n",
      "TEST kernel: \n",
      " [0. 0. 0. 0. 0. 0. 0. 0. 0. 0. 0. 0. 0. 0. 0. 0. 0. 0. 1. 0. 0. 0. 0. 0.\n",
      " 0.]\n",
      "TEST result: \n",
      " [[0. 0. 0.]\n",
      " [3. 0. 0.]\n",
      " [5. 6. 0.]] \n",
      "\n",
      "TEST kernel: \n",
      " [0. 0. 0. 0. 0. 0. 0. 0. 0. 0. 0. 0. 0. 0. 0. 0. 0. 0. 0. 1. 0. 0. 0. 0.\n",
      " 0.]\n",
      "TEST result: \n",
      " [[0. 0. 0.]\n",
      " [0. 0. 0.]\n",
      " [0. 0. 0.]] \n",
      "\n",
      "TEST kernel: \n",
      " [0. 0. 0. 0. 0. 0. 0. 0. 0. 0. 0. 0. 0. 0. 0. 0. 0. 0. 0. 0. 1. 0. 0. 0.\n",
      " 0.]\n",
      "TEST result: \n",
      " [[0. 0. 0.]\n",
      " [0. 0. 0.]\n",
      " [0. 0. 0.]] \n",
      "\n",
      "TEST kernel: \n",
      " [0. 0. 0. 0. 0. 0. 0. 0. 0. 0. 0. 0. 0. 0. 0. 0. 0. 0. 0. 0. 0. 1. 0. 0.\n",
      " 0.]\n",
      "TEST result: \n",
      " [[0. 0. 0.]\n",
      " [0. 0. 0.]\n",
      " [0. 0. 0.]] \n",
      "\n",
      "TEST kernel: \n",
      " [0. 0. 0. 0. 0. 0. 0. 0. 0. 0. 0. 0. 0. 0. 0. 0. 0. 0. 0. 0. 0. 0. 1. 0.\n",
      " 0.]\n",
      "TEST result: \n",
      " [[0. 0. 0.]\n",
      " [0. 0. 0.]\n",
      " [0. 0. 0.]] \n",
      "\n",
      "TEST kernel: \n",
      " [0. 0. 0. 0. 0. 0. 0. 0. 0. 0. 0. 0. 0. 0. 0. 0. 0. 0. 0. 0. 0. 0. 0. 1.\n",
      " 0.]\n",
      "TEST result: \n",
      " [[0. 0. 0.]\n",
      " [0. 0. 0.]\n",
      " [0. 0. 0.]] \n",
      "\n",
      "TEST kernel: \n",
      " [0. 0. 0. 0. 0. 0. 0. 0. 0. 0. 0. 0. 0. 0. 0. 0. 0. 0. 0. 0. 0. 0. 0. 0.\n",
      " 1.]\n",
      "TEST result: \n",
      " [[0. 0. 0.]\n",
      " [0. 0. 0.]\n",
      " [0. 0. 0.]] \n",
      "\n"
     ]
    }
   ],
   "source": [
    "# Testing several simple configurations of kernels.\n",
    "insize = 3\n",
    "radius = 2\n",
    "ksize = 2*radius+1\n",
    "stride = 1\n",
    "\n",
    "with tf.Session(config=tf.ConfigProto(log_device_placement=False)) as sess:\n",
    "    for k in range(ksize**2):\n",
    "        # Basic kernel\n",
    "        f = np.zeros(shape=[ksize**2], dtype=np.float32)\n",
    "        f[k] = 1.\n",
    "        print('TEST kernel: \\n', f)\n",
    "        # Hex. depthwise conv2d\n",
    "        f = np.reshape(f, [ksize, ksize, 1, 1])\n",
    "        t = tf.nn.hex_rot_depthwise_conv2d_native_backprop_input(\n",
    "            [1, insize, insize, 1], f, ralpha, a, [1, stride, stride, 1], 'SAME', data_format='NHWC')\n",
    "        print('TEST result: \\n', t.eval().squeeze(), '\\n')\n"
   ]
  },
  {
   "cell_type": "code",
   "execution_count": null,
   "metadata": {},
   "outputs": [],
   "source": [
    "tf.nn.hex_rot_depthwise_conv2d_native_backprop_input?"
   ]
  },
  {
   "cell_type": "markdown",
   "metadata": {},
   "source": [
    "## Backward hexagonal depthwise convolution 2D - kernel\n",
    "\n",
    "Testing the backward convolution, input gradient."
   ]
  },
  {
   "cell_type": "code",
   "execution_count": null,
   "metadata": {},
   "outputs": [],
   "source": [
    "size = 3\n",
    "shape = [size, size]\n",
    "a = np.reshape(np.linspace(1.0, size**2, num=size**2, dtype=np.float32), shape)\n",
    "\n",
    "print('Test Tensor: \\n', a)\n",
    "a = a.reshape([1, size, size, 1])"
   ]
  },
  {
   "cell_type": "code",
   "execution_count": null,
   "metadata": {},
   "outputs": [],
   "source": [
    "# Testing several simple configurations of kernels.\n",
    "ksize = 3\n",
    "\n",
    "with tf.Session(config=tf.ConfigProto(log_device_placement=False)) as sess:\n",
    "    for k in range(ksize**2):\n",
    "        # Basic kernel\n",
    "        f = np.zeros(shape=[ksize**2], dtype=np.float32)\n",
    "        f[k] = 1.\n",
    "        print('TEST out gradient: \\n', f.reshape([3, 3]))\n",
    "        # Hex. depthwise conv2d\n",
    "        f = np.reshape(f, [1, ksize, ksize, 1])\n",
    "        t = tf.nn.hex_depthwise_conv2d_native_backprop_filter(\n",
    "            f, [3, 3, 1, 1], a, [1, 1, 1, 1], 'SAME', data_format='NHWC')        \n",
    "        print('TEST result: \\n', t.eval().squeeze().flatten(), '\\n')\n"
   ]
  },
  {
   "cell_type": "code",
   "execution_count": null,
   "metadata": {},
   "outputs": [],
   "source": []
  },
  {
   "cell_type": "markdown",
   "metadata": {},
   "source": [
    "## Help..."
   ]
  },
  {
   "cell_type": "code",
   "execution_count": null,
   "metadata": {},
   "outputs": [],
   "source": [
    "tf.nn.hex_depthwise_conv2d?"
   ]
  },
  {
   "cell_type": "code",
   "execution_count": null,
   "metadata": {},
   "outputs": [],
   "source": [
    "tf.nn.depthwise_conv2d_native_backprop_filter?"
   ]
  },
  {
   "cell_type": "code",
   "execution_count": null,
   "metadata": {},
   "outputs": [],
   "source": [
    "tf.nn.hex_depthwise_conv2d_native_backprop_input?"
   ]
  },
  {
   "cell_type": "code",
   "execution_count": null,
   "metadata": {},
   "outputs": [],
   "source": [
    "tf.nn.hex_depthwise_conv2d_native_backprop_filter?"
   ]
  },
  {
   "cell_type": "code",
   "execution_count": null,
   "metadata": {},
   "outputs": [],
   "source": []
  }
 ],
 "metadata": {
  "kernelspec": {
   "display_name": "Python 3",
   "language": "python",
   "name": "python3"
  },
  "language_info": {
   "codemirror_mode": {
    "name": "ipython",
    "version": 3
   },
   "file_extension": ".py",
   "mimetype": "text/x-python",
   "name": "python",
   "nbconvert_exporter": "python",
   "pygments_lexer": "ipython3",
   "version": "3.6.4"
  }
 },
 "nbformat": 4,
 "nbformat_minor": 2
}
